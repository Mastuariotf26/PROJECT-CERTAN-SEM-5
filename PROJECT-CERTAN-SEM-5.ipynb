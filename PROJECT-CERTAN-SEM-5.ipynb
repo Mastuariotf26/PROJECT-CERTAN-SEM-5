{
 "cells": [
  {
   "cell_type": "code",
   "execution_count": 43,
   "id": "670cdd5a",
   "metadata": {},
   "outputs": [],
   "source": [
    "#import libraries\n",
    "import pandas as pd\n",
    "import numpy as np\n",
    "import random as rd\n",
    "import matplotlib.pyplot as plt\n",
    "import pandas\n",
    "from pandas.plotting import scatter_matrix\n",
    "import statsmodels.api as sm\n",
    "\n",
    "\n",
    "import matplotlib.pyplot as plt\n",
    "get_ipython().run_line_magic('matplotlib', 'inline')\n",
    "import numpy as np\n",
    "from sklearn.tree import DecisionTreeClassifier"
   ]
  },
  {
   "cell_type": "code",
   "execution_count": 4,
   "id": "f8734000",
   "metadata": {},
   "outputs": [
    {
     "data": {
      "text/html": [
       "<div>\n",
       "<style scoped>\n",
       "    .dataframe tbody tr th:only-of-type {\n",
       "        vertical-align: middle;\n",
       "    }\n",
       "\n",
       "    .dataframe tbody tr th {\n",
       "        vertical-align: top;\n",
       "    }\n",
       "\n",
       "    .dataframe thead th {\n",
       "        text-align: right;\n",
       "    }\n",
       "</style>\n",
       "<table border=\"1\" class=\"dataframe\">\n",
       "  <thead>\n",
       "    <tr style=\"text-align: right;\">\n",
       "      <th></th>\n",
       "      <th>name</th>\n",
       "      <th>mfr</th>\n",
       "      <th>type</th>\n",
       "      <th>calories</th>\n",
       "      <th>protein</th>\n",
       "      <th>fat</th>\n",
       "      <th>sodium</th>\n",
       "      <th>fiber</th>\n",
       "      <th>carbo</th>\n",
       "      <th>sugars</th>\n",
       "      <th>potass</th>\n",
       "      <th>vitamins</th>\n",
       "      <th>shelf</th>\n",
       "      <th>weight</th>\n",
       "      <th>cups</th>\n",
       "      <th>rating</th>\n",
       "    </tr>\n",
       "  </thead>\n",
       "  <tbody>\n",
       "    <tr>\n",
       "      <th>0</th>\n",
       "      <td>100% Bran</td>\n",
       "      <td>N</td>\n",
       "      <td>C</td>\n",
       "      <td>70</td>\n",
       "      <td>4</td>\n",
       "      <td>1</td>\n",
       "      <td>130</td>\n",
       "      <td>10.0</td>\n",
       "      <td>5.0</td>\n",
       "      <td>6</td>\n",
       "      <td>280</td>\n",
       "      <td>25</td>\n",
       "      <td>3</td>\n",
       "      <td>1.0</td>\n",
       "      <td>0.33</td>\n",
       "      <td>68.402973</td>\n",
       "    </tr>\n",
       "    <tr>\n",
       "      <th>1</th>\n",
       "      <td>100% Natural Bran</td>\n",
       "      <td>Q</td>\n",
       "      <td>C</td>\n",
       "      <td>120</td>\n",
       "      <td>3</td>\n",
       "      <td>5</td>\n",
       "      <td>15</td>\n",
       "      <td>2.0</td>\n",
       "      <td>8.0</td>\n",
       "      <td>8</td>\n",
       "      <td>135</td>\n",
       "      <td>0</td>\n",
       "      <td>3</td>\n",
       "      <td>1.0</td>\n",
       "      <td>1.00</td>\n",
       "      <td>33.983679</td>\n",
       "    </tr>\n",
       "    <tr>\n",
       "      <th>2</th>\n",
       "      <td>All-Bran</td>\n",
       "      <td>K</td>\n",
       "      <td>C</td>\n",
       "      <td>70</td>\n",
       "      <td>4</td>\n",
       "      <td>1</td>\n",
       "      <td>260</td>\n",
       "      <td>9.0</td>\n",
       "      <td>7.0</td>\n",
       "      <td>5</td>\n",
       "      <td>320</td>\n",
       "      <td>25</td>\n",
       "      <td>3</td>\n",
       "      <td>1.0</td>\n",
       "      <td>0.33</td>\n",
       "      <td>59.425505</td>\n",
       "    </tr>\n",
       "    <tr>\n",
       "      <th>3</th>\n",
       "      <td>All-Bran with Extra Fiber</td>\n",
       "      <td>K</td>\n",
       "      <td>C</td>\n",
       "      <td>50</td>\n",
       "      <td>4</td>\n",
       "      <td>0</td>\n",
       "      <td>140</td>\n",
       "      <td>14.0</td>\n",
       "      <td>8.0</td>\n",
       "      <td>0</td>\n",
       "      <td>330</td>\n",
       "      <td>25</td>\n",
       "      <td>3</td>\n",
       "      <td>1.0</td>\n",
       "      <td>0.50</td>\n",
       "      <td>93.704912</td>\n",
       "    </tr>\n",
       "    <tr>\n",
       "      <th>4</th>\n",
       "      <td>Almond Delight</td>\n",
       "      <td>R</td>\n",
       "      <td>C</td>\n",
       "      <td>110</td>\n",
       "      <td>2</td>\n",
       "      <td>2</td>\n",
       "      <td>200</td>\n",
       "      <td>1.0</td>\n",
       "      <td>14.0</td>\n",
       "      <td>8</td>\n",
       "      <td>-1</td>\n",
       "      <td>25</td>\n",
       "      <td>3</td>\n",
       "      <td>1.0</td>\n",
       "      <td>0.75</td>\n",
       "      <td>34.384843</td>\n",
       "    </tr>\n",
       "  </tbody>\n",
       "</table>\n",
       "</div>"
      ],
      "text/plain": [
       "                        name mfr type  calories  protein  fat  sodium  fiber  \\\n",
       "0                  100% Bran   N    C        70        4    1     130   10.0   \n",
       "1          100% Natural Bran   Q    C       120        3    5      15    2.0   \n",
       "2                   All-Bran   K    C        70        4    1     260    9.0   \n",
       "3  All-Bran with Extra Fiber   K    C        50        4    0     140   14.0   \n",
       "4             Almond Delight   R    C       110        2    2     200    1.0   \n",
       "\n",
       "   carbo  sugars  potass  vitamins  shelf  weight  cups     rating  \n",
       "0    5.0       6     280        25      3     1.0  0.33  68.402973  \n",
       "1    8.0       8     135         0      3     1.0  1.00  33.983679  \n",
       "2    7.0       5     320        25      3     1.0  0.33  59.425505  \n",
       "3    8.0       0     330        25      3     1.0  0.50  93.704912  \n",
       "4   14.0       8      -1        25      3     1.0  0.75  34.384843  "
      ]
     },
     "execution_count": 4,
     "metadata": {},
     "output_type": "execute_result"
    }
   ],
   "source": [
    "data = pd.read_csv('./cereal.csv')\n",
    "data.head()"
   ]
  },
  {
   "cell_type": "code",
   "execution_count": 33,
   "id": "705625ac",
   "metadata": {},
   "outputs": [],
   "source": [
    "calories = data['calories'].values"
   ]
  },
  {
   "cell_type": "code",
   "execution_count": 34,
   "id": "da234a71",
   "metadata": {},
   "outputs": [
    {
     "data": {
      "text/plain": [
       "array([ 70, 120,  70,  50, 110, 110, 110, 130,  90,  90, 120, 110, 120,\n",
       "       110, 110, 110, 100, 110, 110, 110, 100, 110, 100, 100, 110, 110,\n",
       "       100, 120, 120, 110, 100, 110, 100, 110, 120, 120, 110, 110, 110,\n",
       "       140, 110, 100, 110, 100, 150, 150, 160, 100, 120, 140,  90, 130,\n",
       "       120, 100,  50,  50, 100, 100, 120, 100,  90, 110, 110,  80,  90,\n",
       "        90, 110, 110,  90, 110, 140, 100, 110, 110, 100, 100, 110],\n",
       "      dtype=int64)"
      ]
     },
     "execution_count": 34,
     "metadata": {},
     "output_type": "execute_result"
    }
   ],
   "source": [
    "calories"
   ]
  },
  {
   "cell_type": "code",
   "execution_count": 35,
   "id": "0d3a00d7",
   "metadata": {},
   "outputs": [],
   "source": [
    "rating = data['rating'].values"
   ]
  },
  {
   "cell_type": "code",
   "execution_count": 30,
   "id": "43cda889",
   "metadata": {},
   "outputs": [
    {
     "data": {
      "text/plain": [
       "array([68.402973, 33.983679, 59.425505, 93.704912, 34.384843, 29.509541,\n",
       "       33.174094, 37.038562, 49.120253, 53.313813, 18.042851, 50.764999,\n",
       "       19.823573, 40.400208, 22.736446, 41.445019, 45.863324, 35.782791,\n",
       "       22.396513, 40.448772, 64.533816, 46.895644, 36.176196, 44.330856,\n",
       "       32.207582, 31.435973, 58.345141, 40.917047, 41.015492, 28.025765,\n",
       "       35.252444, 23.804043, 52.076897, 53.371007, 45.811716, 21.871292,\n",
       "       31.072217, 28.742414, 36.523683, 36.471512, 39.241114, 45.328074,\n",
       "       26.734515, 54.850917, 37.136863, 34.139765, 30.313351, 40.105965,\n",
       "       29.924285, 40.69232 , 59.642837, 30.450843, 37.840594, 41.50354 ,\n",
       "       60.756112, 63.005645, 49.511874, 50.828392, 39.259197, 39.7034  ,\n",
       "       55.333142, 41.998933, 40.560159, 68.235885, 74.472949, 72.801787,\n",
       "       31.230054, 53.131324, 59.363993, 38.839746, 28.592785, 46.658844,\n",
       "       39.106174, 27.753301, 49.787445, 51.592193, 36.187559])"
      ]
     },
     "execution_count": 30,
     "metadata": {},
     "output_type": "execute_result"
    }
   ],
   "source": [
    "rating"
   ]
  },
  {
   "cell_type": "code",
   "execution_count": 32,
   "id": "29f353e8",
   "metadata": {},
   "outputs": [
    {
     "name": "stdout",
     "output_type": "stream",
     "text": [
      "[]\n"
     ]
    }
   ],
   "source": [
    "indx = np.argwhere(np.isnan(calories))\n",
    "print(indx)"
   ]
  },
  {
   "cell_type": "code",
   "execution_count": 39,
   "id": "aeadf160",
   "metadata": {},
   "outputs": [],
   "source": [
    "calories = np.delete(calories,0)\n",
    "rating = np.delete(rating,0)"
   ]
  },
  {
   "cell_type": "code",
   "execution_count": 40,
   "id": "0065adb0",
   "metadata": {},
   "outputs": [
    {
     "data": {
      "text/plain": [
       "76"
      ]
     },
     "execution_count": 40,
     "metadata": {},
     "output_type": "execute_result"
    }
   ],
   "source": [
    "len(calories)"
   ]
  },
  {
   "cell_type": "code",
   "execution_count": 41,
   "id": "30a8ed91",
   "metadata": {},
   "outputs": [
    {
     "data": {
      "text/plain": [
       "76"
      ]
     },
     "execution_count": 41,
     "metadata": {},
     "output_type": "execute_result"
    }
   ],
   "source": [
    "len(rating)"
   ]
  },
  {
   "cell_type": "code",
   "execution_count": 44,
   "id": "1fc513ab",
   "metadata": {},
   "outputs": [
    {
     "data": {
      "text/html": [
       "<table class=\"simpletable\">\n",
       "<caption>OLS Regression Results</caption>\n",
       "<tr>\n",
       "  <th>Dep. Variable:</th>            <td>y</td>        <th>  R-squared:         </th> <td>   0.455</td>\n",
       "</tr>\n",
       "<tr>\n",
       "  <th>Model:</th>                   <td>OLS</td>       <th>  Adj. R-squared:    </th> <td>   0.447</td>\n",
       "</tr>\n",
       "<tr>\n",
       "  <th>Method:</th>             <td>Least Squares</td>  <th>  F-statistic:       </th> <td>   61.71</td>\n",
       "</tr>\n",
       "<tr>\n",
       "  <th>Date:</th>             <td>Tue, 03 Jan 2023</td> <th>  Prob (F-statistic):</th> <td>2.43e-11</td>\n",
       "</tr>\n",
       "<tr>\n",
       "  <th>Time:</th>                 <td>12:22:37</td>     <th>  Log-Likelihood:    </th> <td> -283.88</td>\n",
       "</tr>\n",
       "<tr>\n",
       "  <th>No. Observations:</th>      <td>    76</td>      <th>  AIC:               </th> <td>   571.8</td>\n",
       "</tr>\n",
       "<tr>\n",
       "  <th>Df Residuals:</th>          <td>    74</td>      <th>  BIC:               </th> <td>   576.4</td>\n",
       "</tr>\n",
       "<tr>\n",
       "  <th>Df Model:</th>              <td>     1</td>      <th>                     </th>     <td> </td>   \n",
       "</tr>\n",
       "<tr>\n",
       "  <th>Covariance Type:</th>      <td>nonrobust</td>    <th>                     </th>     <td> </td>   \n",
       "</tr>\n",
       "</table>\n",
       "<table class=\"simpletable\">\n",
       "<tr>\n",
       "    <td></td>       <th>coef</th>     <th>std err</th>      <th>t</th>      <th>P>|t|</th>  <th>[0.025</th>    <th>0.975]</th>  \n",
       "</tr>\n",
       "<tr>\n",
       "  <th>const</th> <td>   94.6090</td> <td>    6.759</td> <td>   13.998</td> <td> 0.000</td> <td>   81.142</td> <td>  108.076</td>\n",
       "</tr>\n",
       "<tr>\n",
       "  <th>x1</th>    <td>   -0.4869</td> <td>    0.062</td> <td>   -7.856</td> <td> 0.000</td> <td>   -0.610</td> <td>   -0.363</td>\n",
       "</tr>\n",
       "</table>\n",
       "<table class=\"simpletable\">\n",
       "<tr>\n",
       "  <th>Omnibus:</th>       <td> 1.264</td> <th>  Durbin-Watson:     </th> <td>   1.683</td>\n",
       "</tr>\n",
       "<tr>\n",
       "  <th>Prob(Omnibus):</th> <td> 0.532</td> <th>  Jarque-Bera (JB):  </th> <td>   1.282</td>\n",
       "</tr>\n",
       "<tr>\n",
       "  <th>Skew:</th>          <td> 0.222</td> <th>  Prob(JB):          </th> <td>   0.527</td>\n",
       "</tr>\n",
       "<tr>\n",
       "  <th>Kurtosis:</th>      <td> 2.544</td> <th>  Cond. No.          </th> <td>    625.</td>\n",
       "</tr>\n",
       "</table><br/><br/>Notes:<br/>[1] Standard Errors assume that the covariance matrix of the errors is correctly specified."
      ],
      "text/plain": [
       "<class 'statsmodels.iolib.summary.Summary'>\n",
       "\"\"\"\n",
       "                            OLS Regression Results                            \n",
       "==============================================================================\n",
       "Dep. Variable:                      y   R-squared:                       0.455\n",
       "Model:                            OLS   Adj. R-squared:                  0.447\n",
       "Method:                 Least Squares   F-statistic:                     61.71\n",
       "Date:                Tue, 03 Jan 2023   Prob (F-statistic):           2.43e-11\n",
       "Time:                        12:22:37   Log-Likelihood:                -283.88\n",
       "No. Observations:                  76   AIC:                             571.8\n",
       "Df Residuals:                      74   BIC:                             576.4\n",
       "Df Model:                           1                                         \n",
       "Covariance Type:            nonrobust                                         \n",
       "==============================================================================\n",
       "                 coef    std err          t      P>|t|      [0.025      0.975]\n",
       "------------------------------------------------------------------------------\n",
       "const         94.6090      6.759     13.998      0.000      81.142     108.076\n",
       "x1            -0.4869      0.062     -7.856      0.000      -0.610      -0.363\n",
       "==============================================================================\n",
       "Omnibus:                        1.264   Durbin-Watson:                   1.683\n",
       "Prob(Omnibus):                  0.532   Jarque-Bera (JB):                1.282\n",
       "Skew:                           0.222   Prob(JB):                        0.527\n",
       "Kurtosis:                       2.544   Cond. No.                         625.\n",
       "==============================================================================\n",
       "\n",
       "Notes:\n",
       "[1] Standard Errors assume that the covariance matrix of the errors is correctly specified.\n",
       "\"\"\""
      ]
     },
     "execution_count": 44,
     "metadata": {},
     "output_type": "execute_result"
    }
   ],
   "source": [
    "calories2 = sm.add_constant(calories)\n",
    "lm = sm.OLS(rating, calories2)\n",
    "lm = lm.fit()\n",
    "lm.summary()"
   ]
  },
  {
   "cell_type": "code",
   "execution_count": 45,
   "id": "18a2fd19",
   "metadata": {},
   "outputs": [
    {
     "data": {
      "text/plain": [
       "array([94.609043  , -0.48694007])"
      ]
     },
     "execution_count": 45,
     "metadata": {},
     "output_type": "execute_result"
    }
   ],
   "source": [
    "lm.params"
   ]
  },
  {
   "cell_type": "code",
   "execution_count": 46,
   "id": "56f15058",
   "metadata": {},
   "outputs": [
    {
     "data": {
      "text/plain": [
       "94.12210293"
      ]
     },
     "execution_count": 46,
     "metadata": {},
     "output_type": "execute_result"
    }
   ],
   "source": [
    "y = 94.609043 + -0.48694007*(1)\n",
    "y"
   ]
  },
  {
   "cell_type": "code",
   "execution_count": 47,
   "id": "d62198e6",
   "metadata": {},
   "outputs": [],
   "source": [
    "new_line = np.linspace(calories.min(), calories.max())\n",
    "new_line = sm.add_constant(new_line)\n",
    "y_hat = lm.predict(new_line)"
   ]
  },
  {
   "cell_type": "code",
   "execution_count": 48,
   "id": "9f1fbf06",
   "metadata": {},
   "outputs": [
    {
     "data": {
      "text/plain": [
       "[<matplotlib.lines.Line2D at 0x144d9e77190>]"
      ]
     },
     "execution_count": 48,
     "metadata": {},
     "output_type": "execute_result"
    },
    {
     "data": {
      "image/png": "[encoded data removed]",
      "text/plain": [
       "<Figure size 432x288 with 1 Axes>"
      ]
     },
     "metadata": {
      "needs_background": "light"
     },
     "output_type": "display_data"
    }
   ],
   "source": [
    "plt.scatter(calories, rating, alpha = 0.4)\n",
    "plt.xlabel(\"CALORIES\")\n",
    "plt.ylabel(\"Nutritional Rating\")\n",
    "plt.title(\"Cereal Rating by Calories Content\")\n",
    "plt.plot(new_line[:, 1], y_hat, 'g', alpha=0.6)"
   ]
  },
  {
   "cell_type": "code",
   "execution_count": 49,
   "id": "b5a936dd",
   "metadata": {},
   "outputs": [
    {
     "data": {
      "text/plain": [
       "array([ -2.19255581,  -1.09773322,  23.44287241,  -6.66079249,\n",
       "       -11.53609449,  -7.87154149,   5.73172787,  -1.66418386,\n",
       "         2.52937614, -18.13338381,   9.71936351, -16.35266181,\n",
       "        -0.64542749, -18.30918949,   0.39938351,  -0.05171217,\n",
       "        -5.26284449, -18.64912249,  -0.59686349,  18.61877983,\n",
       "         5.85000851,  -9.73884017,  -1.58418017,  -8.83805349,\n",
       "        -9.60966249,  12.43010483,   4.74081219,   4.83925719,\n",
       "       -13.01987049, -10.66259217, -17.24159249,   6.16186083,\n",
       "        12.32537151,   9.63548119, -14.30494281,  -9.97341849,\n",
       "       -12.30322149,  -4.52195249,  10.03407856,  -1.80452149,\n",
       "        -0.58696217, -14.31112049,   8.93588083,  15.56883024,\n",
       "        12.57173224,  13.61471892,  -5.80907117,  -6.25194981,\n",
       "        14.25488656,   8.85840014,  -0.85599113,   1.66435919,\n",
       "        -4.41149617,  -9.50592759,  -7.25639459,   3.59683783,\n",
       "         4.91335583,   3.08296219,  -6.21163617,   4.54870514,\n",
       "         0.95329751,  -0.48547649,  12.58204746,  23.68851214,\n",
       "        22.01735014,  -9.81558149,  12.08568851,   8.57955614,\n",
       "        -2.20588949,   2.15535156,   0.74380783,  -1.93946149,\n",
       "       -13.29233449,   3.87240883,   5.67715683,  -4.85807649])"
      ]
     },
     "execution_count": 49,
     "metadata": {},
     "output_type": "execute_result"
    }
   ],
   "source": [
    "lm.resid"
   ]
  },
  {
   "cell_type": "code",
   "execution_count": 50,
   "id": "c19c6ff4",
   "metadata": {},
   "outputs": [
    {
     "data": {
      "text/plain": [
       "9.719363508620738"
      ]
     },
     "execution_count": 50,
     "metadata": {},
     "output_type": "execute_result"
    }
   ],
   "source": [
    "lm.resid[10]"
   ]
  },
  {
   "cell_type": "code",
   "execution_count": 52,
   "id": "6eb471fc",
   "metadata": {},
   "outputs": [
    {
     "name": "stdout",
     "output_type": "stream",
     "text": [
      "==================================================================================================\n",
      "       obs      endog     fitted     Cook's   student.   hat diag    dffits   ext.stud.     dffits\n",
      "                           value          d   residual              internal   residual           \n",
      "--------------------------------------------------------------------------------------------------\n",
      "         0     33.984     36.176      0.000     -0.215      0.019     -0.030     -0.214     -0.030\n",
      "         1     59.426     60.523      0.000     -0.110      0.064     -0.029     -0.110     -0.029\n",
      "         2     93.705     70.262      0.460      2.450      0.133      0.960      2.539      0.994\n",
      "         3     34.385     41.046      0.003     -0.653      0.013     -0.076     -0.650     -0.076\n",
      "         4     29.510     41.046      0.009     -1.130      0.013     -0.132     -1.133     -0.132\n",
      "         5     33.174     41.046      0.004     -0.771      0.013     -0.090     -0.769     -0.090\n",
      "         6     37.039     31.307      0.005      0.567      0.032      0.103      0.564      0.102\n",
      "         7     49.120     50.784      0.000     -0.164      0.024     -0.026     -0.163     -0.026\n",
      "         8     53.314     50.784      0.001      0.249      0.024      0.039      0.248      0.039\n",
      "         9     18.043     36.176      0.031     -1.782      0.019     -0.248     -1.809     -0.252\n",
      "        10     50.765     41.046      0.006      0.952      0.013      0.111      0.952      0.111\n",
      "        11     19.824     36.176      0.025     -1.607      0.019     -0.223     -1.625     -0.226\n",
      "        12     40.400     41.046      0.000     -0.063      0.013     -0.007     -0.063     -0.007\n",
      "        13     22.736     41.046      0.022     -1.794      0.013     -0.209     -1.822     -0.212\n",
      "        14     41.445     41.046      0.000      0.039      0.013      0.005      0.039      0.005\n",
      "        15     45.863     45.915      0.000     -0.005      0.015     -0.001     -0.005     -0.001\n",
      "        16     35.783     41.046      0.002     -0.516      0.013     -0.060     -0.513     -0.060\n",
      "        17     22.397     41.046      0.023     -1.827      0.013     -0.213     -1.857     -0.217\n",
      "        18     40.449     41.046      0.000     -0.058      0.013     -0.007     -0.058     -0.007\n",
      "        19     64.534     45.915      0.026      1.826      0.015      0.226      1.856      0.230\n",
      "        20     46.896     41.046      0.002      0.573      0.013      0.067      0.571      0.067\n",
      "        21     36.176     45.915      0.007     -0.955      0.015     -0.118     -0.955     -0.118\n",
      "        22     44.331     45.915      0.000     -0.155      0.015     -0.019     -0.154     -0.019\n",
      "        23     32.208     41.046      0.005     -0.866      0.013     -0.101     -0.865     -0.101\n",
      "        24     31.436     41.046      0.006     -0.942      0.013     -0.110     -0.941     -0.110\n",
      "        25     58.345     45.915      0.011      1.219      0.015      0.151      1.223      0.152\n",
      "        26     40.917     36.176      0.002      0.466      0.019      0.065      0.463      0.064\n",
      "        27     41.015     36.176      0.002      0.476      0.019      0.066      0.473      0.066\n",
      "        28     28.026     41.046      0.011     -1.276      0.013     -0.149     -1.281     -0.149\n",
      "        29     35.252     45.915      0.008     -1.046      0.015     -0.130     -1.046     -0.130\n",
      "        30     23.804     41.046      0.019     -1.690      0.013     -0.197     -1.711     -0.200\n",
      "        31     52.077     45.915      0.003      0.604      0.015      0.075      0.602      0.075\n",
      "        32     53.371     41.046      0.010      1.208      0.013      0.141      1.212      0.141\n",
      "        33     45.812     36.176      0.009      0.947      0.019      0.132      0.946      0.132\n",
      "        34     21.871     36.176      0.019     -1.406      0.019     -0.195     -1.415     -0.197\n",
      "        35     31.072     41.046      0.006     -0.977      0.013     -0.114     -0.977     -0.114\n",
      "        36     28.742     41.046      0.010     -1.206      0.013     -0.141     -1.209     -0.141\n",
      "        37     36.524     41.046      0.001     -0.443      0.013     -0.052     -0.441     -0.051\n",
      "        38     36.472     26.437      0.028      1.003      0.052      0.235      1.003      0.235\n",
      "        39     39.241     41.046      0.000     -0.177      0.013     -0.021     -0.176     -0.020\n",
      "        40     45.328     45.915      0.000     -0.058      0.015     -0.007     -0.057     -0.007\n",
      "        41     26.735     41.046      0.013     -1.402      0.013     -0.163     -1.412     -0.165\n",
      "        42     54.851     45.915      0.006      0.876      0.015      0.109      0.875      0.108\n",
      "        43     37.137     21.568      0.107      1.579      0.079      0.464      1.596      0.468\n",
      "        44     34.140     21.568      0.070      1.275      0.079      0.374      1.281      0.376\n",
      "        45     30.313     16.699      0.127      1.408      0.114      0.505      1.417      0.508\n",
      "        46     40.106     45.915      0.002     -0.570      0.015     -0.071     -0.567     -0.070\n",
      "        47     29.924     36.176      0.004     -0.614      0.019     -0.085     -0.612     -0.085\n",
      "        48     40.692     26.437      0.056      1.425      0.052      0.333      1.435      0.336\n",
      "        49     59.643     50.784      0.009      0.873      0.024      0.137      0.871      0.137\n",
      "        50     30.451     31.307      0.000     -0.085      0.032     -0.015     -0.084     -0.015\n",
      "        51     37.841     36.176      0.000      0.164      0.019      0.023      0.162      0.023\n",
      "        52     41.504     45.915      0.001     -0.433      0.015     -0.054     -0.430     -0.053\n",
      "        53     60.756     70.262      0.076     -0.994      0.133     -0.389     -0.994     -0.389\n",
      "        54     63.006     70.262      0.044     -0.758      0.133     -0.297     -0.756     -0.296\n",
      "        55     49.512     45.915      0.001      0.353      0.015      0.044      0.351      0.043\n",
      "        56     50.828     45.915      0.002      0.482      0.015      0.060      0.479      0.059\n",
      "        57     39.259     36.176      0.001      0.303      0.019      0.042      0.301      0.042\n",
      "        58     39.703     45.915      0.003     -0.609      0.015     -0.076     -0.607     -0.075\n",
      "        59     55.333     50.784      0.002      0.448      0.024      0.070      0.446      0.070\n",
      "        60     41.999     41.046      0.000      0.093      0.013      0.011      0.093      0.011\n",
      "        61     40.560     41.046      0.000     -0.048      0.013     -0.006     -0.047     -0.006\n",
      "        62     68.236     55.654      0.033      1.250      0.040      0.257      1.255      0.258\n",
      "        63     74.473     50.784      0.067      2.334      0.024      0.367      2.408      0.379\n",
      "        64     72.802     50.784      0.058      2.169      0.024      0.341      2.227      0.350\n",
      "        65     31.230     41.046      0.006     -0.962      0.013     -0.112     -0.961     -0.112\n",
      "        66     53.131     41.046      0.010      1.184      0.013      0.138      1.188      0.138\n",
      "        67     59.364     50.784      0.009      0.845      0.024      0.133      0.844      0.133\n",
      "        68     38.840     41.046      0.000     -0.216      0.013     -0.025     -0.215     -0.025\n",
      "        69     28.593     26.437      0.001      0.215      0.052      0.050      0.214      0.050\n",
      "        70     46.659     45.915      0.000      0.073      0.015      0.009      0.072      0.009\n",
      "        71     39.106     41.046      0.000     -0.190      0.013     -0.022     -0.189     -0.022\n",
      "        72     27.753     41.046      0.012     -1.303      0.013     -0.152     -1.309     -0.153\n",
      "        73     49.787     45.915      0.001      0.380      0.015      0.047      0.378      0.047\n",
      "        74     51.592     45.915      0.002      0.557      0.015      0.069      0.554      0.069\n",
      "        75     36.188     41.046      0.002     -0.476      0.013     -0.056     -0.474     -0.055\n",
      "==================================================================================================\n"
     ]
    }
   ],
   "source": [
    "infl = lm.get_influence()\n",
    "print(infl.summary_table())\n"
   ]
  },
  {
   "cell_type": "code",
   "execution_count": null,
   "id": "88f08a67",
   "metadata": {},
   "outputs": [],
   "source": []
  }
 ],
 "metadata": {
  "kernelspec": {
   "display_name": "Python 3 (ipykernel)",
   "language": "python",
   "name": "python3"
  },
  "language_info": {
   "codemirror_mode": {
    "name": "ipython",
    "version": 3
   },
   "file_extension": ".py",
   "mimetype": "text/x-python",
   "name": "python",
   "nbconvert_exporter": "python",
   "pygments_lexer": "ipython3",
   "version": "3.9.12"
  }
 },
 "nbformat": 4,
 "nbformat_minor": 5
}
